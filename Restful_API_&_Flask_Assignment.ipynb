{
  "nbformat": 4,
  "nbformat_minor": 0,
  "metadata": {
    "colab": {
      "provenance": [],
      "authorship_tag": "ABX9TyO/eLRHvUYllZaTq0GJnDQH",
      "include_colab_link": true
    },
    "kernelspec": {
      "name": "python3",
      "display_name": "Python 3"
    },
    "language_info": {
      "name": "python"
    }
  },
  "cells": [
    {
      "cell_type": "markdown",
      "metadata": {
        "id": "view-in-github",
        "colab_type": "text"
      },
      "source": [
        "<a href=\"https://colab.research.google.com/github/aman-0005/my-colab-project/blob/main/Restful_API_%26_Flask_Assignment.ipynb\" target=\"_parent\"><img src=\"https://colab.research.google.com/assets/colab-badge.svg\" alt=\"Open In Colab\"/></a>"
      ]
    },
    {
      "cell_type": "markdown",
      "source": [
        "1. **What is a RESTful API?**\n",
        "\n",
        "    -> A RESTful API (Representational State Transfer) is a web service that follows REST principles to allow communication between client and server using standard HTTP methods like GET, POST, PUT, DELETE. It uses URLs to access resources and typically returns data in JSON or XML format.\n",
        "\n",
        "\n",
        "\n",
        "2. **Explain the concept of API specification.**\n",
        "\n",
        "    -> It describes how an API works—what endpoints it has, what data it sends/receives.\n",
        "\n",
        "\n",
        "\n",
        "3. **What is Flask, and why is it popular for building APIs?**\n",
        "\n",
        "    -> Flask is a lightweight Python web framework used to build web applications and APIs. It's popular because it's:\n",
        "\n",
        "    Simple and easy to learn\n",
        "\n",
        "    Flexible (minimal boilerplate)\n",
        "\n",
        "    Extensible with plugins (like Flask-SQLAlchemy, Flask-RESTful)\n",
        "\n",
        "\n",
        "\n",
        "4. **What is routing in Flask?**\n",
        "\n",
        "    -> It connects a URL (like /hello) to a Python function.\n",
        "\n",
        "\n",
        "\n",
        "5. **How do you create a simple Flask application?**\n",
        "\n",
        "    -> from flask import Flask\n",
        "    app = Flask(__name__)\n",
        "\n",
        "    @app.route('/')\n",
        "    def hello():\n",
        "      return \"Hello, World!\"\n",
        "\n",
        "    if __name__ == '__main__':\n",
        "      app.run(debug=True)\n",
        "\n",
        "\n",
        "\n",
        "6. **What are HTTP methods used in RESTful APIs?**\n",
        "\n",
        "    ->\n",
        "*   GET – Get data\n",
        "*   POST – Add data\n",
        "*   PUT – Update data\n",
        "*   DELETE – Delete data\n",
        "    \n",
        "\n",
        "7. **What is the purpose of the @app.route() decorator in Flask?**\n",
        "\n",
        "    -> The @app.route() decorator binds a URL path to a view function. It tells Flask what function to call when a user accesses that route.\n",
        "\n",
        "\n",
        "\n",
        "8. **What is the difference between GET and POST HTTP methods?**\n",
        "\n",
        "    -> GET: Used to retrieve data from the server. Data is passed in the URL.\n",
        "\n",
        "    POST: Used to send data to the server, often in the request body, for creation or submission.\n",
        "\n",
        "\n",
        "\n",
        "9. **How do you handle errors in Flask APIs?**\n",
        "\n",
        "    -> @app.errorhandler(404)\n",
        "    def not_found(e):\n",
        "        return {\"error\": \"Not found\"}, 404\n",
        "\n",
        "\n",
        "\n",
        "10. **How do you connect Flask to a SQL database?**\n",
        "\n",
        "    -> from flask_sqlalchemy import SQLAlchemy\n",
        "\n",
        "    app.config['SQLALCHEMY_DATABASE_URI'] = 'sqlite:///mydb.db'\n",
        "    db = SQLAlchemy(app)\n",
        "\n",
        "\n",
        "\n",
        "11. **What is the role of Flask-SQLAlchemy?**\n",
        "\n",
        "    -> An extension to connect Flask with databases using Python classes.\n",
        "\n",
        "12. **What are Flask blueprints, and how are they useful?**\n",
        "\n",
        "    -> Blueprints help organize large applications by grouping routes and logic into reusable modules.\n",
        "\n",
        "\n",
        "13. **What is the purpose of Flask's request object?**\n",
        "\n",
        "    -> The request object allows access to incoming request data, like:\n",
        "*   form fields\n",
        "*   JSON payloads\n",
        "*   headers\n",
        "*   query parameters\n",
        "\n",
        "14. **How do you create a RESTful API endpoint using Flask?**\n",
        "\n",
        "    -> @app.route('/api/data', methods=['GET'])\n",
        "    def get_data():\n",
        "        return jsonify({\"key\": \"value\"})\n",
        "\n",
        "\n",
        "15. ** What is the purpose of Flask's jsonify() function?\n",
        "\n",
        "    -> jsonify() converts Python dictionaries to a valid JSON response and sets the correct Content-Type: application/json header.\n",
        "\n",
        "16. **Explain Flask’s url_for() function.**\n",
        "\n",
        "    -> url_for() dynamically generates URLs for routes by referencing the function name.\n",
        "\n",
        "17. **How does Flask handle static files (CSS, JavaScript, etc.)?**\n",
        "\n",
        "    -> By default, Flask serves static files from the /static directory.\n",
        "\n",
        "18. **What is an API specification, and how does it help in building a Flask API?**\n",
        "\n",
        "    -> It ensures:\n",
        "*   Clear documentation\n",
        "*   Easier collaboration\n",
        "*   Standardized request/response format\n",
        "*   Tools like Swagger can auto-generate docs and clients\n",
        "    \n",
        "\n",
        "19. **What are HTTP status codes, and why are they important in a Flask API?**\n",
        "\n",
        "    -> Status codes indicate the result of an HTTP request:\n",
        "\n",
        "*   200 OK – success\n",
        "*   201 Created – resource created\n",
        "*   400 Bad Request – invalid input\n",
        "*   404 Not Found – resource missing\n",
        "*   500 Internal Server Error – server crash\n",
        "    \n",
        "\n",
        "20. **How do you handle POST requests in Flask?**\n",
        "\n",
        "    -> @app.route('/submit', methods=['POST'])\n",
        "    def submit():\n",
        "        data = request.json\n",
        "        return jsonify(data), 201\n",
        "\n",
        "21. **How would you secure a Flask API?**\n",
        "\n",
        "    ->\n",
        "*   Use HTTPS\n",
        "*   Validate and sanitize inputs\n",
        "*   Use authentication (JWT, OAuth)\n",
        "*   Implement rate limiting\n",
        "*   Use API keys\n",
        "*   Protect against CSRF/XSS/SQL injection\n",
        "\n",
        "\n",
        "22. **What is the significance of the Flask-RESTful extension?**\n",
        "\n",
        "    -> Flask-RESTful helps build REST APIs quickly using classes instead of functions. It simplifies route handling and request parsing.\n",
        "\n",
        "23. **What is the role of Flask’s session object?**\n",
        "\n",
        "    -> The session object stores user-specific data between requests using secure cookies. Commonly used for login/session management.\n"
      ],
      "metadata": {
        "id": "m4580aOofOSW"
      }
    },
    {
      "cell_type": "code",
      "execution_count": null,
      "metadata": {
        "id": "ZBiOOGVCfET4"
      },
      "outputs": [],
      "source": []
    },
    {
      "cell_type": "markdown",
      "source": [
        "# Practical"
      ],
      "metadata": {
        "id": "J4MtyopYqWB2"
      }
    },
    {
      "cell_type": "markdown",
      "source": [
        "1. **How do you create a basic Flask application?**"
      ],
      "metadata": {
        "id": "A_VPRzSVqZ2R"
      }
    },
    {
      "cell_type": "code",
      "source": [
        "from flask import Flask\n",
        "app = Flask(__name__)\n",
        "\n",
        "@app.route('/')\n",
        "def home():\n",
        "    return \"Hello\"\n",
        "\n",
        "app.run()"
      ],
      "metadata": {
        "id": "Qj6xWjqNrP8J"
      },
      "execution_count": null,
      "outputs": []
    },
    {
      "cell_type": "markdown",
      "source": [
        "2. **How do you serve static files like images or CSS in Flask?**"
      ],
      "metadata": {
        "id": "MXRpyT4frWEz"
      }
    },
    {
      "cell_type": "code",
      "source": [
        "<link rel=\"stylesheet\" href=\"{{ url_for('static', filename='style.css') }}\">\n"
      ],
      "metadata": {
        "id": "ZY6TMwoDrbG5"
      },
      "execution_count": null,
      "outputs": []
    },
    {
      "cell_type": "markdown",
      "source": [
        "3. **How do you define different routes with different HTTP methods in Flask?**"
      ],
      "metadata": {
        "id": "u-PcaytareuH"
      }
    },
    {
      "cell_type": "code",
      "source": [
        "@app.route('/api/resource', methods=['GET'])\n",
        "def get_resource():\n",
        "    return jsonify({\"data\": \"This is a resource\"})\n",
        "\n",
        "@app.route('/api/resource', methods=['POST'])\n",
        "def create_resource():\n",
        "    data = request.json\n",
        "    return jsonify({\"message\": \"Resource created\"}), 201\n"
      ],
      "metadata": {
        "id": "nijmbcI6rh3u"
      },
      "execution_count": 3,
      "outputs": []
    },
    {
      "cell_type": "markdown",
      "source": [
        "4. **How do you render HTML templates in Flask?**"
      ],
      "metadata": {
        "id": "MPe5_6Fjwnd7"
      }
    },
    {
      "cell_type": "code",
      "source": [
        "from flask import render_template\n",
        "\n",
        "@app.route('/hello')\n",
        "def hello():\n",
        "    return render_template('hello.html')\n"
      ],
      "metadata": {
        "id": "yRQmSEGMwk74"
      },
      "execution_count": 6,
      "outputs": []
    },
    {
      "cell_type": "markdown",
      "source": [
        "5. **How can you generate URLs for routes in Flask using url_for?**"
      ],
      "metadata": {
        "id": "TZNVAJZWw0cc"
      }
    },
    {
      "cell_type": "code",
      "source": [
        "url_for('hello')"
      ],
      "metadata": {
        "id": "nkrEU7C_wy7v"
      },
      "execution_count": null,
      "outputs": []
    },
    {
      "cell_type": "markdown",
      "source": [
        "6. ** How do you handle forms in Flask?**"
      ],
      "metadata": {
        "id": "49Sy1x0YxC3g"
      }
    },
    {
      "cell_type": "code",
      "source": [
        "@app.route('/user/<username>')\n",
        "def show_user_profile(username):\n",
        "    return f\":User  {username}\"\n"
      ],
      "metadata": {
        "id": "omHRDTFgxGB4"
      },
      "execution_count": 7,
      "outputs": []
    },
    {
      "cell_type": "markdown",
      "source": [
        "7. **How can you validate form data in Flask?**"
      ],
      "metadata": {
        "id": "vd5zIGD6xRRV"
      }
    },
    {
      "cell_type": "code",
      "source": [
        "from flask_wtf import FlaskForm\n",
        "from wtforms import StringField, SubmitField\n",
        "from wtforms.validators import DataRequired\n",
        "\n",
        "class MyForm(FlaskForm):\n",
        "    name = StringField('Name', validators=[DataRequired()])\n",
        "    submit = SubmitField('Submit')"
      ],
      "metadata": {
        "id": "npP9_rgexcaW"
      },
      "execution_count": null,
      "outputs": []
    },
    {
      "cell_type": "markdown",
      "source": [
        "8. **How do you manage sessions in Flask?**"
      ],
      "metadata": {
        "id": "PAUKA9y_xZxk"
      }
    },
    {
      "cell_type": "code",
      "source": [
        "from flask import session\n",
        "\n",
        "@app.route('/set_session')\n",
        "def set_session():\n",
        "    session['username'] = 'JohnDoe'\n",
        "    return \"Session set!\"\n",
        "\n",
        "@app.route('/get_session')\n",
        "def get_session():\n",
        "    return f\"Username: {session.get('username')}\"\n"
      ],
      "metadata": {
        "id": "-CKyaz04xiIo"
      },
      "execution_count": null,
      "outputs": []
    },
    {
      "cell_type": "markdown",
      "source": [
        "9. **How do you redirect to a different route in Flask?**"
      ],
      "metadata": {
        "id": "JkbUEn8dxnOL"
      }
    },
    {
      "cell_type": "code",
      "source": [
        "from flask import redirect, url_for\n",
        "\n",
        "@app.route('/redirect_example')\n",
        "def redirect_example():\n",
        "    return redirect(url_for('hello'))\n"
      ],
      "metadata": {
        "id": "tDSJzz_5xrf4"
      },
      "execution_count": null,
      "outputs": []
    },
    {
      "cell_type": "markdown",
      "source": [
        "10. **How do you handle errors in Flask (e.g., 404)?**"
      ],
      "metadata": {
        "id": "tKq4Qe_oxthC"
      }
    },
    {
      "cell_type": "code",
      "source": [
        "@app.errorhandler(404)\n",
        "def not_found(error):\n",
        "    return jsonify({\"error\": \"Not found\"}), 404\n"
      ],
      "metadata": {
        "id": "Omy9ajc9xxXH"
      },
      "execution_count": null,
      "outputs": []
    },
    {
      "cell_type": "markdown",
      "source": [
        "11. **How do you structure a Flask app using Blueprints?**"
      ],
      "metadata": {
        "id": "u54j0_kax1nr"
      }
    },
    {
      "cell_type": "code",
      "source": [
        "from flask import Blueprint\n",
        "\n",
        "my_blueprint = Blueprint('my_blueprint', __name__)\n",
        "\n",
        "@my_blueprint.route('/blueprint')\n",
        "def blueprint_view():\n",
        "    return \"This is a blueprint view.\"\n",
        "\n",
        "app.register_blueprint(my_blueprint)\n"
      ],
      "metadata": {
        "id": "8sDAPTucx7Up"
      },
      "execution_count": null,
      "outputs": []
    },
    {
      "cell_type": "markdown",
      "source": [
        "12. **How do you define a custom Jinja filter in Flask?**"
      ],
      "metadata": {
        "id": "_ISFLLewx-T8"
      }
    },
    {
      "cell_type": "code",
      "source": [
        "@app.template_filter('reverse')\n",
        "def reverse_filter(s):\n",
        "    return s[::-1]\n"
      ],
      "metadata": {
        "id": "_TMfT72zyD4L"
      },
      "execution_count": null,
      "outputs": []
    },
    {
      "cell_type": "markdown",
      "source": [
        "13. **How can you redirect with query parameters in Flask?**"
      ],
      "metadata": {
        "id": "WNS5BxloyF6E"
      }
    },
    {
      "cell_type": "code",
      "source": [
        "@app.route('/redirect_with_params')\n",
        "def redirect_with_params():\n",
        "    return redirect(url_for('hello', name='John'))\n"
      ],
      "metadata": {
        "id": "cGh5MaukyUdG"
      },
      "execution_count": null,
      "outputs": []
    },
    {
      "cell_type": "markdown",
      "source": [
        "14. **How do you return JSON responses in Flask?**"
      ],
      "metadata": {
        "id": "yldOmCJbyXkB"
      }
    },
    {
      "cell_type": "code",
      "source": [
        "from flask import jsonify\n",
        "\n",
        "@app.route('/api/data')\n",
        "def get_data():\n",
        "    return jsonify({\"key\": \"value\"})\n"
      ],
      "metadata": {
        "id": "yj2OdDayybIx"
      },
      "execution_count": null,
      "outputs": []
    },
    {
      "cell_type": "markdown",
      "source": [
        "15. **How do you capture URL parameters in Flask?**"
      ],
      "metadata": {
        "id": "SpOWreuyyh-I"
      }
    },
    {
      "cell_type": "code",
      "source": [
        "@app.route('/user/<username>')\n",
        "def show_user_profile(username):\n",
        "    return f\":User  {username}\"\n"
      ],
      "metadata": {
        "id": "jZ9Bj_YSyf5R"
      },
      "execution_count": null,
      "outputs": []
    }
  ]
}