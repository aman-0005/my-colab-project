{
  "nbformat": 4,
  "nbformat_minor": 0,
  "metadata": {
    "colab": {
      "provenance": [],
      "collapsed_sections": [
        "OmdrVA30dr7v"
      ],
      "toc_visible": true,
      "authorship_tag": "ABX9TyN49qrQeDgIumymNo29TYKh",
      "include_colab_link": true
    },
    "kernelspec": {
      "name": "python3",
      "display_name": "Python 3"
    },
    "language_info": {
      "name": "python"
    }
  },
  "cells": [
    {
      "cell_type": "markdown",
      "metadata": {
        "id": "view-in-github",
        "colab_type": "text"
      },
      "source": [
        "<a href=\"https://colab.research.google.com/github/aman-0005/my-colab-project/blob/main/Assigmenr_Data_Structure.ipynb\" target=\"_parent\"><img src=\"https://colab.research.google.com/assets/colab-badge.svg\" alt=\"Open In Colab\"/></a>"
      ]
    },
    {
      "cell_type": "markdown",
      "source": [
        "# Data Types and Structures Questions"
      ],
      "metadata": {
        "id": "OmdrVA30dr7v"
      }
    },
    {
      "cell_type": "markdown",
      "source": [
        "1. **What are data structures, and why are they important?**\n",
        "\n",
        "    Ans-> Way of organizing and storing data so that it can be accessed and effeciently.\n",
        "\n",
        "\n",
        "2. **Explain the difference between mutable and immutable data types with examples.**\n",
        "\n",
        "    Ans-> Mutable: Can be changed (e.g., lists: my_list.append(4)).\n",
        "    Immutable: Cannot be changed (e.g., strings: my_string[0] = \"h\" raises an error).\n",
        "\n",
        "\n",
        "3. **What are the main differences between lists and tuples in Python?**\n",
        "\n",
        "    Ans-> Lists are mutable and tuples are imutable, list use '[]' and tuples use  '()', list for changing data and tuples for fix data.\n",
        "\n",
        "\n",
        "4. **Describe how dictionaries store data?**\n",
        "\n",
        "    Ans-> Disctionaries store data in the form of key value pair.\n",
        "\n",
        "\n",
        "5. **Why might you use a set instead of a list in Python?**\n",
        "\n",
        "    Ans-> Sets store unique items and automatically remove duplicates.\n",
        "\n",
        "\n",
        "6. **What is a string in Python, and how is it different from a list?**\n",
        "\n",
        "    Ans-> A string is a sequence of characters and is immutable, while a list can hold multiple data types and is mutable.\n",
        "\n",
        "\n",
        "7. **How do tuples ensure data integrity in Python?**\n",
        "\n",
        "    Ans-> Tuples are immutable, preventing accidental changes to the data.\n",
        "\n",
        "\n",
        "8. **What is a hash table, and how does it relate to dictionaries in Python?**\n",
        "\n",
        "    Ans-> A hash table maps keys to values, and Python dictionaries use hash tables for efficient data retrieval.\n",
        "\n",
        "\n",
        "9. **Can lists contain different data types in Python?**\n",
        "\n",
        "    Ans-> Yes, lists can contain different data types (e.g., [1, \"Hello\", 3.14]).\n",
        "\n",
        "  \n",
        "10. **Explain why strings are immutable in Python?***\n",
        "\n",
        "    Ans-> Strings are immutable for performance and memory management reasons.\n",
        "\n",
        "\n",
        "11. **What advantages do dictionaries offer over lists for certain tasks?**\n",
        "\n",
        "    Ans-> Dictionaries allow for faster lookups and direct access to values using keys.\n",
        "\n",
        "\n",
        "12. **Describe a scenario where using a tuple would be preferable over a list?**\n",
        "\n",
        "    Ans-> Use a tuple for fixed collections, like coordinates (x, y).\n",
        "  \n",
        "\n",
        "13. ** How do sets handle duplicate values in Python?**\n",
        "\n",
        "    Ans-> Sets automatically remove duplicates when adding elements.\n",
        "\n",
        "\n",
        "14. **How does the “in” keyword work differently for lists and dictionaries?**\n",
        "\n",
        "    Ans-> Lists: Checks for element presence (e.g., 2 in my_list).\n",
        "\n",
        "    Dictionaries: Checks for key presence (e.g., 'a' in my_dict)\n",
        "\n",
        "\n",
        "15. **Can you modify the elements of a tuple? Explain why or why not?**\n",
        "\n",
        "    Ans-> No, we can't  modify the element of a tuple because it is imutable.\n",
        "\n",
        "\n",
        "16. **What is a nested dictionary, and give an example of its use case?**\n",
        "\n",
        "    Ans-> A nested dictionary contains dictionaries as values.\n",
        "\n",
        "    Exapmle: students = {\"Aman\": {\"age\": 20}, \"Rahul\": {\"age\": 22}}\n",
        "\n",
        "   \n",
        "17. **Describe the time complexity of accessing elements in a dictionary?**\n",
        "\n",
        "    Ans-> Average time complexity is O(1) for quick access.\n",
        "\n",
        "\n",
        "18. **In what situations are lists preferred over dictionaries?*\n",
        "\n",
        "    Ans-> Lists are preferred when order matters or for sequential access.\n",
        "\n",
        "\n",
        "19. **Why are dictionaries considered unordered, and how does that affect data retrieval?**\n",
        "\n",
        "    Ans-> Dictionaries do not maintain the order of elements, affecting how data is retrieved.\n",
        "\n",
        "\n",
        "20. ** Explain the difference between a list and a dictionary in terms of data retrieval.**\n",
        "\n",
        "    Ans-> List: Retrieve data using an index (e.g., my_list[0] for the first item).\n",
        "\n",
        "    Dictionary: Retrieve data using a key (e.g., my_dict['key'] for the value associated with 'key')."
      ],
      "metadata": {
        "id": "RnGWKrzBTrh5"
      }
    },
    {
      "cell_type": "markdown",
      "source": [
        "# Practical Questions"
      ],
      "metadata": {
        "id": "--TqefbadiEm"
      }
    },
    {
      "cell_type": "markdown",
      "source": [
        "1.  **Write a code to create a string with your name and print it.**"
      ],
      "metadata": {
        "id": "sQpK0LMKc_Be"
      }
    },
    {
      "cell_type": "code",
      "source": [
        "my_name = \"Aman\"\n",
        "print(my_name)"
      ],
      "metadata": {
        "colab": {
          "base_uri": "https://localhost:8080/"
        },
        "id": "tr8D5lAWdCfh",
        "outputId": "3c28243f-5083-4f3c-e376-2e7d57ea0a49"
      },
      "execution_count": 1,
      "outputs": [
        {
          "output_type": "stream",
          "name": "stdout",
          "text": [
            "Aman\n"
          ]
        }
      ]
    },
    {
      "cell_type": "markdown",
      "source": [
        "2. **Write a code to find the length of the string \"Hello World\".**"
      ],
      "metadata": {
        "id": "aHAKmM-McvUD"
      }
    },
    {
      "cell_type": "code",
      "source": [
        "str = \"Hello World\"\n",
        "len(str)"
      ],
      "metadata": {
        "colab": {
          "base_uri": "https://localhost:8080/"
        },
        "id": "kXwah_9pd4Rh",
        "outputId": "6ce8284b-a5c0-4e4b-b7da-18e2596644c8"
      },
      "execution_count": 2,
      "outputs": [
        {
          "output_type": "execute_result",
          "data": {
            "text/plain": [
              "11"
            ]
          },
          "metadata": {},
          "execution_count": 2
        }
      ]
    },
    {
      "cell_type": "markdown",
      "source": [
        "3. **Write a code to slice the first 3 characters from the string \"Python Programming\"**."
      ],
      "metadata": {
        "id": "yfnQawWSeB1A"
      }
    },
    {
      "cell_type": "code",
      "source": [
        "str = \"Python Programming\"\n",
        "str[:3]"
      ],
      "metadata": {
        "colab": {
          "base_uri": "https://localhost:8080/",
          "height": 36
        },
        "id": "GN08cnS-d_4h",
        "outputId": "2aa173fe-6b9e-48b7-b438-19cfbe72f842"
      },
      "execution_count": 5,
      "outputs": [
        {
          "output_type": "execute_result",
          "data": {
            "text/plain": [
              "'Pyt'"
            ],
            "application/vnd.google.colaboratory.intrinsic+json": {
              "type": "string"
            }
          },
          "metadata": {},
          "execution_count": 5
        }
      ]
    },
    {
      "cell_type": "markdown",
      "source": [
        "4. **Write a code to convert the string \"hello\" to uppercase.**"
      ],
      "metadata": {
        "id": "uGCXSaH7elQS"
      }
    },
    {
      "cell_type": "code",
      "source": [
        "a = \"hello\"\n",
        "a.upper()"
      ],
      "metadata": {
        "colab": {
          "base_uri": "https://localhost:8080/",
          "height": 36
        },
        "id": "UFK1ib3ReUt8",
        "outputId": "2d730a5a-9fea-4afe-de10-6a8a8c15ba71"
      },
      "execution_count": 11,
      "outputs": [
        {
          "output_type": "execute_result",
          "data": {
            "text/plain": [
              "'HELLO'"
            ],
            "application/vnd.google.colaboratory.intrinsic+json": {
              "type": "string"
            }
          },
          "metadata": {},
          "execution_count": 11
        }
      ]
    },
    {
      "cell_type": "markdown",
      "source": [],
      "metadata": {
        "id": "G_A8RcTKfEx6"
      }
    },
    {
      "cell_type": "markdown",
      "source": [
        "5. **Write a code to replace the word \"apple\" with \"orange\" in the string \"I like apple\".**"
      ],
      "metadata": {
        "id": "c_-WCcUbe4-V"
      }
    },
    {
      "cell_type": "code",
      "source": [
        "Fruits = \"I like apple\"\n",
        "Fruits.replace(\"apple\", \"orange\")"
      ],
      "metadata": {
        "colab": {
          "base_uri": "https://localhost:8080/",
          "height": 36
        },
        "id": "NJQ8hUxae7uS",
        "outputId": "f3850e5c-4982-4387-d1c0-132fa331a418"
      },
      "execution_count": 12,
      "outputs": [
        {
          "output_type": "execute_result",
          "data": {
            "text/plain": [
              "'I like orange'"
            ],
            "application/vnd.google.colaboratory.intrinsic+json": {
              "type": "string"
            }
          },
          "metadata": {},
          "execution_count": 12
        }
      ]
    },
    {
      "cell_type": "markdown",
      "source": [
        "6. **Write a code to create a list with numbers 1 to 5 and print it.**"
      ],
      "metadata": {
        "id": "wJE96stQfuc8"
      }
    },
    {
      "cell_type": "code",
      "source": [
        "list = [1, 2, 3, 4, 5]\n",
        "print(list)"
      ],
      "metadata": {
        "colab": {
          "base_uri": "https://localhost:8080/"
        },
        "id": "nr25Ox1AfeKq",
        "outputId": "84cb8da2-9f98-4bb3-c055-b6ee0b434245"
      },
      "execution_count": 16,
      "outputs": [
        {
          "output_type": "stream",
          "name": "stdout",
          "text": [
            "[1, 2, 3, 4, 5]\n"
          ]
        }
      ]
    },
    {
      "cell_type": "markdown",
      "source": [
        "7. ** Write a code to append the number 10 to the list [1, 2, 3, 4].**"
      ],
      "metadata": {
        "id": "NjApXD_8gAG7"
      }
    },
    {
      "cell_type": "code",
      "source": [
        "list = [1,2,3,4]\n",
        "list.append(10)\n",
        "list"
      ],
      "metadata": {
        "colab": {
          "base_uri": "https://localhost:8080/"
        },
        "id": "DBsBqdg2f0S8",
        "outputId": "b3921413-1945-4f40-bd33-84b78db7b098"
      },
      "execution_count": 20,
      "outputs": [
        {
          "output_type": "execute_result",
          "data": {
            "text/plain": [
              "[1, 2, 3, 4, 10]"
            ]
          },
          "metadata": {},
          "execution_count": 20
        }
      ]
    },
    {
      "cell_type": "markdown",
      "source": [
        "8. **Write a code to remove the number 3 from the list [1, 2, 3, 4, 5].**"
      ],
      "metadata": {
        "id": "rJDr7w4sgfUW"
      }
    },
    {
      "cell_type": "code",
      "source": [
        "list = [1,2,3,4,5]\n",
        "list.remove(3)\n",
        "list"
      ],
      "metadata": {
        "colab": {
          "base_uri": "https://localhost:8080/"
        },
        "id": "pa9P2RWkgR5Q",
        "outputId": "09784328-2981-426f-acc5-efb08284caa8"
      },
      "execution_count": 21,
      "outputs": [
        {
          "output_type": "execute_result",
          "data": {
            "text/plain": [
              "[1, 2, 4, 5]"
            ]
          },
          "metadata": {},
          "execution_count": 21
        }
      ]
    },
    {
      "cell_type": "markdown",
      "source": [
        "9. **Write a code to access the second element in the list ['a', 'b', 'c', 'd'].**"
      ],
      "metadata": {
        "id": "qWWlC2tVgrxj"
      }
    },
    {
      "cell_type": "code",
      "source": [
        "list = ['a','b','c','d']\n",
        "list[1]"
      ],
      "metadata": {
        "colab": {
          "base_uri": "https://localhost:8080/",
          "height": 36
        },
        "id": "1FMUBkt8goPL",
        "outputId": "04275818-01dd-45ff-9f17-4fd65c7bfe75"
      },
      "execution_count": 22,
      "outputs": [
        {
          "output_type": "execute_result",
          "data": {
            "text/plain": [
              "'b'"
            ],
            "application/vnd.google.colaboratory.intrinsic+json": {
              "type": "string"
            }
          },
          "metadata": {},
          "execution_count": 22
        }
      ]
    },
    {
      "cell_type": "markdown",
      "source": [
        "10. **Write a code to reverse the list [10, 20, 30, 40, 50].**"
      ],
      "metadata": {
        "id": "fC_RFJcfg44x"
      }
    },
    {
      "cell_type": "code",
      "source": [
        "list = [10,20,30,40,50]\n",
        "list.reverse()\n",
        "list"
      ],
      "metadata": {
        "colab": {
          "base_uri": "https://localhost:8080/"
        },
        "id": "rtJcjkkXg3Zq",
        "outputId": "075c6d80-faaf-4cd6-db55-340878b6b2e9"
      },
      "execution_count": 25,
      "outputs": [
        {
          "output_type": "execute_result",
          "data": {
            "text/plain": [
              "[50, 40, 30, 20, 10]"
            ]
          },
          "metadata": {},
          "execution_count": 25
        }
      ]
    },
    {
      "cell_type": "markdown",
      "source": [
        "11. **Write a code to create a tuple with the elements 100, 200, 300 and print it.**"
      ],
      "metadata": {
        "id": "Agy8X4m7hJdZ"
      }
    },
    {
      "cell_type": "code",
      "source": [
        "a = (100,200,300)\n",
        "print(a)"
      ],
      "metadata": {
        "colab": {
          "base_uri": "https://localhost:8080/"
        },
        "id": "wF0OtzklhC8e",
        "outputId": "d435a0aa-8649-4c10-92b9-d3de4fd35f3c"
      },
      "execution_count": 26,
      "outputs": [
        {
          "output_type": "stream",
          "name": "stdout",
          "text": [
            "(100, 200, 300)\n"
          ]
        }
      ]
    },
    {
      "cell_type": "markdown",
      "source": [
        "12. **Write a code to access the second-to-last element of the tuple ('red', 'green', 'blue', 'yellow').**"
      ],
      "metadata": {
        "id": "snjdVmWzh9f8"
      }
    },
    {
      "cell_type": "code",
      "source": [
        "tuple = ('red', 'green', 'blue', 'yellow')\n",
        "tuple[-2]"
      ],
      "metadata": {
        "colab": {
          "base_uri": "https://localhost:8080/",
          "height": 36
        },
        "id": "RoDhklwahhQk",
        "outputId": "52b8ea44-6828-4c26-eeba-fd1a3d72e524"
      },
      "execution_count": 29,
      "outputs": [
        {
          "output_type": "execute_result",
          "data": {
            "text/plain": [
              "'blue'"
            ],
            "application/vnd.google.colaboratory.intrinsic+json": {
              "type": "string"
            }
          },
          "metadata": {},
          "execution_count": 29
        }
      ]
    },
    {
      "cell_type": "markdown",
      "source": [
        "13. **Write a code to find the minimum number in the tuple (10, 20, 5, 15).**"
      ],
      "metadata": {
        "id": "xZ8X0nOviGt1"
      }
    },
    {
      "cell_type": "code",
      "source": [
        "tuple = (10,20,5,15)\n",
        "num = min(tuple)\n",
        "print(num)"
      ],
      "metadata": {
        "colab": {
          "base_uri": "https://localhost:8080/"
        },
        "id": "Xq_BeuVvh4xt",
        "outputId": "ea6869f3-d293-48c6-8d73-60d8d22f8ee2"
      },
      "execution_count": 33,
      "outputs": [
        {
          "output_type": "stream",
          "name": "stdout",
          "text": [
            "5\n"
          ]
        }
      ]
    },
    {
      "cell_type": "markdown",
      "source": [
        "14. **Write a code to find the index of the element \"cat\" in the tuple ('dog', 'cat', 'rabbit').**"
      ],
      "metadata": {
        "id": "Qn1uJGAOisN_"
      }
    },
    {
      "cell_type": "code",
      "source": [
        "tuple = ('dog', 'cat', 'rabbit')\n",
        "tuple.index('cat')"
      ],
      "metadata": {
        "colab": {
          "base_uri": "https://localhost:8080/"
        },
        "id": "JdwcfZLKiX7Q",
        "outputId": "6615118e-4dfb-43fb-ecce-2451c375f354"
      },
      "execution_count": 34,
      "outputs": [
        {
          "output_type": "execute_result",
          "data": {
            "text/plain": [
              "1"
            ]
          },
          "metadata": {},
          "execution_count": 34
        }
      ]
    },
    {
      "cell_type": "markdown",
      "source": [
        "15. **Write a code to create a tuple containing three different fruits and check if \"kiwi\" is in it.**"
      ],
      "metadata": {
        "id": "vk4mROlBi_BD"
      }
    },
    {
      "cell_type": "code",
      "source": [
        "tuple = (\"apple\", \"banana\", \"orange\")\n",
        "\"kiwi\" in tuple"
      ],
      "metadata": {
        "colab": {
          "base_uri": "https://localhost:8080/"
        },
        "id": "js8odboFi3F-",
        "outputId": "6442a47d-dbfd-4266-faba-cb17879cde25"
      },
      "execution_count": 36,
      "outputs": [
        {
          "output_type": "execute_result",
          "data": {
            "text/plain": [
              "False"
            ]
          },
          "metadata": {},
          "execution_count": 36
        }
      ]
    },
    {
      "cell_type": "markdown",
      "source": [
        "16. **Write a code to create a set with the elements 'a', 'b', 'c' and print it.**"
      ],
      "metadata": {
        "id": "e8QAgvwSjjm2"
      }
    },
    {
      "cell_type": "code",
      "source": [
        "set = {'a','b','c'}\n",
        "set"
      ],
      "metadata": {
        "colab": {
          "base_uri": "https://localhost:8080/"
        },
        "id": "TJcQVRP9i9ed",
        "outputId": "d108820d-a1a8-48d9-865b-4ac9e2f5c794"
      },
      "execution_count": 37,
      "outputs": [
        {
          "output_type": "execute_result",
          "data": {
            "text/plain": [
              "{'a', 'b', 'c'}"
            ]
          },
          "metadata": {},
          "execution_count": 37
        }
      ]
    },
    {
      "cell_type": "markdown",
      "source": [
        "17. **Write a code to clear all elements from the set {1, 2, 3, 4, 5}.**"
      ],
      "metadata": {
        "id": "K08nYHpPj2IL"
      }
    },
    {
      "cell_type": "code",
      "source": [
        "set = {1,2,3,4,5}\n",
        "set.clear()\n",
        "set"
      ],
      "metadata": {
        "colab": {
          "base_uri": "https://localhost:8080/"
        },
        "id": "XWNlBZOWjxfh",
        "outputId": "7c9210b0-05d1-4d33-8d11-6896da127cc8"
      },
      "execution_count": 42,
      "outputs": [
        {
          "output_type": "execute_result",
          "data": {
            "text/plain": [
              "set()"
            ]
          },
          "metadata": {},
          "execution_count": 42
        }
      ]
    },
    {
      "cell_type": "markdown",
      "source": [
        "18.  **Write a code to remove the element 4 from the set {1, 2, 3, 4}.**"
      ],
      "metadata": {
        "id": "alJxlwQ3kTP6"
      }
    },
    {
      "cell_type": "code",
      "source": [
        "set = {1,2,3,4}\n",
        "set.remove(4)\n",
        "set"
      ],
      "metadata": {
        "colab": {
          "base_uri": "https://localhost:8080/"
        },
        "id": "1ifK3YALkGwK",
        "outputId": "a9d7a89f-4806-4d92-b9e5-589cbdbdda62"
      },
      "execution_count": 43,
      "outputs": [
        {
          "output_type": "execute_result",
          "data": {
            "text/plain": [
              "{1, 2, 3}"
            ]
          },
          "metadata": {},
          "execution_count": 43
        }
      ]
    },
    {
      "cell_type": "markdown",
      "source": [
        "19. **Write a code to find the union of two sets {1, 2, 3} and {3, 4, 5}.**"
      ],
      "metadata": {
        "id": "eqwAArlXkevu"
      }
    },
    {
      "cell_type": "code",
      "source": [
        "set_a = {1,2,3}\n",
        "set_b = {3,4,5}\n",
        "set = set_a.union(set_b)\n",
        "print(set)"
      ],
      "metadata": {
        "colab": {
          "base_uri": "https://localhost:8080/"
        },
        "id": "6uhbFKUTkN9f",
        "outputId": "91063f2f-d001-45e0-ab20-30e328679ebc"
      },
      "execution_count": 49,
      "outputs": [
        {
          "output_type": "stream",
          "name": "stdout",
          "text": [
            "{1, 2, 3, 4, 5}\n"
          ]
        }
      ]
    },
    {
      "cell_type": "markdown",
      "source": [
        "20. **Write a code to find the intersection of two sets {1, 2, 3} and {2, 3, 4}.**"
      ],
      "metadata": {
        "id": "589BgWwtljEb"
      }
    },
    {
      "cell_type": "code",
      "source": [
        "set_a = {1,2,3}\n",
        "set_b = {2,3,4}\n",
        "set = set_a.intersection(set_b)\n",
        "print(set)"
      ],
      "metadata": {
        "colab": {
          "base_uri": "https://localhost:8080/"
        },
        "id": "CrsABOoMlhuj",
        "outputId": "b0ad58b6-e85e-4f32-e973-d8eb58ab67de"
      },
      "execution_count": 51,
      "outputs": [
        {
          "output_type": "stream",
          "name": "stdout",
          "text": [
            "{2, 3}\n"
          ]
        }
      ]
    },
    {
      "cell_type": "markdown",
      "source": [
        "21. **Write a code to create a dictionary with the keys \"name\", \"age\", and \"city\", and print it.**"
      ],
      "metadata": {
        "id": "d_rmfNM9l1oM"
      }
    },
    {
      "cell_type": "code",
      "source": [
        "my_dict = {\"name\": \"Aman\", \"age\": 20, \"city\": \"Delhi\"}\n",
        "print(my_dict)"
      ],
      "metadata": {
        "colab": {
          "base_uri": "https://localhost:8080/"
        },
        "id": "9ltUD6ZCk_Jm",
        "outputId": "3af9a938-122c-45c2-8464-5d413a53964c"
      },
      "execution_count": 53,
      "outputs": [
        {
          "output_type": "stream",
          "name": "stdout",
          "text": [
            "{'name': 'Aman', 'age': 20, 'city': 'Delhi'}\n"
          ]
        }
      ]
    },
    {
      "cell_type": "markdown",
      "source": [
        "22. **Write a code to add a new key-value pair \"country\": \"USA\" to the dictionary {'name': 'John', 'age': 25}.**"
      ],
      "metadata": {
        "id": "xXV2r0fEmCvf"
      }
    },
    {
      "cell_type": "code",
      "source": [
        "my_dict = {'name': 'John', 'age': 25}\n",
        "my_dict['country'] = 'USA'\n",
        "print(my_dict)"
      ],
      "metadata": {
        "colab": {
          "base_uri": "https://localhost:8080/"
        },
        "id": "vRI4xu4Bl0Vt",
        "outputId": "5bbe711f-a29a-4c51-c340-5c2affbc8d66"
      },
      "execution_count": 55,
      "outputs": [
        {
          "output_type": "stream",
          "name": "stdout",
          "text": [
            "{'name': 'John', 'age': 25, 'country': 'USA'}\n"
          ]
        }
      ]
    },
    {
      "cell_type": "markdown",
      "source": [
        "23. **Write a code to access the value associated with the key \"name\" in the dictionary {'name': 'Alice', 'age': 30}.**"
      ],
      "metadata": {
        "id": "sivqQuDRmcbJ"
      }
    },
    {
      "cell_type": "code",
      "source": [
        "my_dict = {'name': 'Alice', 'age': 30}\n",
        "my_dict['name']"
      ],
      "metadata": {
        "colab": {
          "base_uri": "https://localhost:8080/",
          "height": 36
        },
        "id": "UueKf9nXmMJK",
        "outputId": "6823a56c-92d8-4248-c20e-ef8557354500"
      },
      "execution_count": 56,
      "outputs": [
        {
          "output_type": "execute_result",
          "data": {
            "text/plain": [
              "'Alice'"
            ],
            "application/vnd.google.colaboratory.intrinsic+json": {
              "type": "string"
            }
          },
          "metadata": {},
          "execution_count": 56
        }
      ]
    },
    {
      "cell_type": "markdown",
      "source": [
        "24. **Write a code to remove the key \"age\" from the dictionary {'name': 'Bob', 'age': 22, 'city': 'New York'}.**"
      ],
      "metadata": {
        "id": "ZoP2sa-3movW"
      }
    },
    {
      "cell_type": "code",
      "source": [
        "my_dict = {'name': 'Bob', 'age': 22, 'city': 'New York'}\n",
        "del my_dict['age']\n",
        "print(my_dict)"
      ],
      "metadata": {
        "colab": {
          "base_uri": "https://localhost:8080/"
        },
        "id": "JlwZA0nfmmxu",
        "outputId": "ee9588f8-937f-4d48-9e1b-6e3aa3870b6d"
      },
      "execution_count": 60,
      "outputs": [
        {
          "output_type": "stream",
          "name": "stdout",
          "text": [
            "{'name': 'Bob', 'city': 'New York'}\n"
          ]
        }
      ]
    },
    {
      "cell_type": "markdown",
      "source": [
        "25. **Write a code to check if the key \"city\" exists in the dictionary {'name': 'Alice', 'city': 'Paris'}.**"
      ],
      "metadata": {
        "id": "Zsdr_MDOnYZg"
      }
    },
    {
      "cell_type": "code",
      "source": [
        "my_dict = {'name': 'Alice', 'city': 'Paris'}\n",
        "'city' in my_dict\n"
      ],
      "metadata": {
        "colab": {
          "base_uri": "https://localhost:8080/"
        },
        "id": "Z-z-3QUmnBHL",
        "outputId": "f9dd12d0-da78-4b08-b726-ec70af242f77"
      },
      "execution_count": 61,
      "outputs": [
        {
          "output_type": "execute_result",
          "data": {
            "text/plain": [
              "True"
            ]
          },
          "metadata": {},
          "execution_count": 61
        }
      ]
    },
    {
      "cell_type": "markdown",
      "source": [
        "26. **Write a code to create a list, a tuple, and a dictionary, and print them all.**"
      ],
      "metadata": {
        "id": "Sl5QHmeJnr-f"
      }
    },
    {
      "cell_type": "code",
      "source": [
        "list = [1,2,3,4,5]\n",
        "tuple = (1,2,3,4,5)\n",
        "my_dict = {\"name\": \"Aman\", \"age\": 20, \"city\": \"Delhi\"}\n",
        "print(list)\n",
        "print(tuple)\n",
        "print(my_dict)"
      ],
      "metadata": {
        "colab": {
          "base_uri": "https://localhost:8080/"
        },
        "id": "9_4dYGCZnqxy",
        "outputId": "901b8e34-8e00-44b6-f37b-9021851ed100"
      },
      "execution_count": 62,
      "outputs": [
        {
          "output_type": "stream",
          "name": "stdout",
          "text": [
            "[1, 2, 3, 4, 5]\n",
            "(1, 2, 3, 4, 5)\n",
            "{'name': 'Aman', 'age': 20, 'city': 'Delhi'}\n"
          ]
        }
      ]
    },
    {
      "cell_type": "markdown",
      "source": [
        "27. **Write a code to create a list of 5 random numbers between 1 and 100, sort it in ascending order, and print the\n",
        "result.(replaced)**"
      ],
      "metadata": {
        "id": "iGo1EdfBoDTt"
      }
    },
    {
      "cell_type": "code",
      "source": [
        "random_numbers = [random.randint(1, 100) for _ in range(5)]\n",
        "random_numbers.sort()\n",
        "print(\"Sorted random numbers:\", random_numbers)\n"
      ],
      "metadata": {
        "colab": {
          "base_uri": "https://localhost:8080/"
        },
        "id": "3__nYubaoA4f",
        "outputId": "0023f902-9b22-41e0-9830-9de219be0be2"
      },
      "execution_count": 66,
      "outputs": [
        {
          "output_type": "stream",
          "name": "stdout",
          "text": [
            "Sorted random numbers: [9, 20, 37, 56, 66]\n"
          ]
        }
      ]
    },
    {
      "cell_type": "markdown",
      "source": [
        "28. **Write a code to create a list with strings and print the element at the third index.**"
      ],
      "metadata": {
        "id": "efkZ3jRwpavh"
      }
    },
    {
      "cell_type": "code",
      "source": [
        "list = [1, 2, 3, \"AMAN\"]\n",
        "list[3]"
      ],
      "metadata": {
        "colab": {
          "base_uri": "https://localhost:8080/",
          "height": 36
        },
        "id": "7eJFW9OipeCK",
        "outputId": "17676c8b-f313-4259-bd29-bbf4edbe88c1"
      },
      "execution_count": 67,
      "outputs": [
        {
          "output_type": "execute_result",
          "data": {
            "text/plain": [
              "'AMAN'"
            ],
            "application/vnd.google.colaboratory.intrinsic+json": {
              "type": "string"
            }
          },
          "metadata": {},
          "execution_count": 67
        }
      ]
    },
    {
      "cell_type": "markdown",
      "source": [
        "29. **Write a code to combine two dictionaries into one and print the result.**"
      ],
      "metadata": {
        "id": "Ij0bY5Rvppdq"
      }
    },
    {
      "cell_type": "code",
      "source": [
        "my_dict1 = {'a': 1, 'b': 2}\n",
        "my_dict2 = {'c': 3, 'd': 4}\n",
        "my_dict1.update(my_dict2)\n",
        "print(my_dict1)\n"
      ],
      "metadata": {
        "colab": {
          "base_uri": "https://localhost:8080/"
        },
        "id": "rycbb-71pjMl",
        "outputId": "b6971a71-1807-4be6-e78e-a15ff6ba69d7"
      },
      "execution_count": 69,
      "outputs": [
        {
          "output_type": "stream",
          "name": "stdout",
          "text": [
            "{'a': 1, 'b': 2, 'c': 3, 'd': 4}\n"
          ]
        }
      ]
    },
    {
      "cell_type": "markdown",
      "source": [
        "30. **Write a code to convert a list of strings into a set.**"
      ],
      "metadata": {
        "id": "2ZC170Qtp4Bm"
      }
    },
    {
      "cell_type": "code",
      "source": [
        "str_list = [\"apple\", \"bnanana\", \"mango\", \"dates\"]\n",
        "str_set = set(str_list)\n",
        "print(str_set)"
      ],
      "metadata": {
        "colab": {
          "base_uri": "https://localhost:8080/",
          "height": 176
        },
        "id": "BBHdg8g6pmrn",
        "outputId": "b036bfe5-4a8c-4e1d-d3f6-41fd6c8f464a"
      },
      "execution_count": 72,
      "outputs": [
        {
          "output_type": "error",
          "ename": "TypeError",
          "evalue": "'set' object is not callable",
          "traceback": [
            "\u001b[0;31m---------------------------------------------------------------------------\u001b[0m",
            "\u001b[0;31mTypeError\u001b[0m                                 Traceback (most recent call last)",
            "\u001b[0;32m/tmp/ipython-input-72-3336246429.py\u001b[0m in \u001b[0;36m<cell line: 0>\u001b[0;34m()\u001b[0m\n\u001b[1;32m      1\u001b[0m \u001b[0mstr_list\u001b[0m \u001b[0;34m=\u001b[0m \u001b[0;34m[\u001b[0m\u001b[0;34m\"apple\"\u001b[0m\u001b[0;34m,\u001b[0m \u001b[0;34m\"bnanana\"\u001b[0m\u001b[0;34m,\u001b[0m \u001b[0;34m\"mango\"\u001b[0m\u001b[0;34m,\u001b[0m \u001b[0;34m\"dates\"\u001b[0m\u001b[0;34m]\u001b[0m\u001b[0;34m\u001b[0m\u001b[0;34m\u001b[0m\u001b[0m\n\u001b[0;32m----> 2\u001b[0;31m \u001b[0mstr_set\u001b[0m \u001b[0;34m=\u001b[0m \u001b[0mset\u001b[0m\u001b[0;34m(\u001b[0m\u001b[0mstr_list\u001b[0m\u001b[0;34m)\u001b[0m\u001b[0;34m\u001b[0m\u001b[0;34m\u001b[0m\u001b[0m\n\u001b[0m\u001b[1;32m      3\u001b[0m \u001b[0mprint\u001b[0m\u001b[0;34m(\u001b[0m\u001b[0mstr_set\u001b[0m\u001b[0;34m)\u001b[0m\u001b[0;34m\u001b[0m\u001b[0;34m\u001b[0m\u001b[0m\n",
            "\u001b[0;31mTypeError\u001b[0m: 'set' object is not callable"
          ]
        }
      ]
    },
    {
      "cell_type": "code",
      "source": [],
      "metadata": {
        "id": "z2C4txmcqmlO"
      },
      "execution_count": null,
      "outputs": []
    }
  ]
}