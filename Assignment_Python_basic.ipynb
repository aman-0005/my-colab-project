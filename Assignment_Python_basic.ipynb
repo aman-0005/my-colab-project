{
  "nbformat": 4,
  "nbformat_minor": 0,
  "metadata": {
    "colab": {
      "provenance": [],
      "toc_visible": true
    },
    "kernelspec": {
      "name": "python3",
      "display_name": "Python 3"
    },
    "language_info": {
      "name": "python"
    }
  },
  "cells": [
    {
      "cell_type": "markdown",
      "source": [
        "1. **What is Python, and why is it popular?**\n",
        "\n",
        "    -> Python is a programming language that is easy to read and write. It is popular because it is beginner-friendly, has lots of libraries, and can be used for many things like web development, data science, and automation.\n",
        "\n",
        "2. **What is an interpreter in Python?**\n",
        "\n",
        "    -> An interpreter runs Python code line by line and shows the result. It helps test and debug programs easily.\n",
        "\n",
        "3. **What are pre-defined keywords in Python?**\n",
        "\n",
        "    -> Keywords are special words in Python that have a fixed meaning, like if, for, while, True, and None.\n",
        "\n",
        "4. **Can keywords be used as variable names?**\n",
        "\n",
        "    -> No, keywords cannot be used as variable names because they are reserved by Python.\n",
        "\n",
        "5. **What is mutability in Python?**\n",
        "\n",
        "    -> Mutability means whether a value can be changed after it is created.\n",
        "\n",
        "6. **Why are lists mutable, but tuples are immutable?**\n",
        "\n",
        "    -> Lists are mutable because their values can change. Tuples are immutable, so once created their values can not be changed. This helps keep data safe and constant.\n",
        "\n",
        "7. **What is the difference between “==” and “is” operators in Python?**\n",
        "\n",
        "    -> \"==\" checks if values are the same and \"is\" checks if two variables point to the same object in memory.\n",
        "\n",
        "8. **What are logical operators in Python?**\n",
        "\n",
        "    -> Logical operators are used to combine conditions:\n",
        "    and (both must be true),\n",
        "\n",
        "    or (one must be true),\n",
        "\n",
        "    not (reverses the result).\n",
        "\n",
        "9.  **What is type casting in Python?**\n",
        "\n",
        "    -> Type casting means changing the type of a value, like from int to float.\n",
        "\n",
        "10. **What is the difference between implicit and explicit type casting?**\n",
        "\n",
        "    -> Implicit: Python does it automatically (e.g., int + float = float) and  Explicit: You do it using functions like int(), str(), etc.\n",
        "\n",
        "11. **What is the purpose of conditional statements in Python?**\n",
        "\n",
        "    -> Conditional statements run different code depending on whether a condition is true or false.\n",
        "\n",
        "12. **How does the elif statement work?**\n",
        "\n",
        "    -> elif means \"else if.\" It checks another condition if the first if is false.\n",
        "\n",
        "13. **What is the difference between for and while loops?**\n",
        "\n",
        "    -> for loop: repeats a set number of times and while loop: repeats as long as a condition is true.\n",
        "\n",
        "14. **Describe a scenario where a while loop is more suitable than a for loop.**\n",
        "\n",
        "    -> Use a while loop when you don’t know how many times the loop should run — for example, asking the user for a password until they type it correctly."
      ],
      "metadata": {
        "id": "C56zXV6LyUCn"
      }
    },
    {
      "cell_type": "markdown",
      "source": [
        "# Practical Questions"
      ],
      "metadata": {
        "id": "ZPkFZRNR5qw2"
      }
    },
    {
      "cell_type": "markdown",
      "source": [
        "1. **Write a Python program to print \"Hello, World!\".**"
      ],
      "metadata": {
        "id": "NX--fW-o6dR3"
      }
    },
    {
      "cell_type": "code",
      "source": [
        "   print(\"Hello, World!\")"
      ],
      "metadata": {
        "colab": {
          "base_uri": "https://localhost:8080/"
        },
        "id": "RoYLpEJx53X9",
        "outputId": "b57c2805-b06b-46c5-bc24-a279c40b04e1"
      },
      "execution_count": 52,
      "outputs": [
        {
          "output_type": "stream",
          "name": "stdout",
          "text": [
            "Hello, World!\n"
          ]
        }
      ]
    },
    {
      "cell_type": "markdown",
      "source": [
        "2. **Write a Python program that displays your name and age.**"
      ],
      "metadata": {
        "id": "OZJlXTxk8Eq4"
      }
    },
    {
      "cell_type": "code",
      "source": [
        "   name = \"Aman Singh\"\n",
        "   age = 22\n",
        "   print(f\"My name is {name} and I am {age} years old.\")"
      ],
      "metadata": {
        "colab": {
          "base_uri": "https://localhost:8080/"
        },
        "id": "1vhXj0Ac58jl",
        "outputId": "1cde9397-e8c9-43dd-d4dd-6768fd5cc19d"
      },
      "execution_count": 14,
      "outputs": [
        {
          "output_type": "stream",
          "name": "stdout",
          "text": [
            "My name is Aman Singh and I am 22 years old.\n"
          ]
        }
      ]
    },
    {
      "cell_type": "markdown",
      "source": [
        "3. **Write code to print all the pre-defined keywords in Python using the keyword library.**"
      ],
      "metadata": {
        "id": "RArhsS7b8cCr"
      }
    },
    {
      "cell_type": "code",
      "source": [
        "   import keyword\n",
        "   print(keyword.kwlist)"
      ],
      "metadata": {
        "colab": {
          "base_uri": "https://localhost:8080/"
        },
        "id": "sWoPxIR-8NBI",
        "outputId": "b8f5c64c-392c-4c4c-f86f-56e8fa3d9767"
      },
      "execution_count": 15,
      "outputs": [
        {
          "output_type": "stream",
          "name": "stdout",
          "text": [
            "['False', 'None', 'True', 'and', 'as', 'assert', 'async', 'await', 'break', 'class', 'continue', 'def', 'del', 'elif', 'else', 'except', 'finally', 'for', 'from', 'global', 'if', 'import', 'in', 'is', 'lambda', 'nonlocal', 'not', 'or', 'pass', 'raise', 'return', 'try', 'while', 'with', 'yield']\n"
          ]
        }
      ]
    },
    {
      "cell_type": "markdown",
      "source": [
        "4. **Write a program that checks if a given word is a Python keyword.**"
      ],
      "metadata": {
        "id": "LonviCHD8vcn"
      }
    },
    {
      "cell_type": "code",
      "source": [
        "import keyword\n",
        "\n",
        "word = input(\"Enter a word: \")\n",
        "\n",
        "if keyword.iskeyword(word):\n",
        "    print(f\"'{word}' is a Python keyword.\")\n",
        "else:\n",
        "    print(f\"'{word}' is not a Python keyword.\")"
      ],
      "metadata": {
        "colab": {
          "base_uri": "https://localhost:8080/"
        },
        "id": "ap71LjQE8rsF",
        "outputId": "dcea1acf-d0df-4d34-9e86-9412f3d2efb2"
      },
      "execution_count": 18,
      "outputs": [
        {
          "output_type": "stream",
          "name": "stdout",
          "text": [
            "Enter a word: if\n",
            "'if' is a Python keyword.\n"
          ]
        }
      ]
    },
    {
      "cell_type": "markdown",
      "source": [
        "5. **Create a list and tuple in Python, and demonstrate how attempting to change an element works differently\n",
        "for each.**"
      ],
      "metadata": {
        "id": "-Q7BmERF9kZD"
      }
    },
    {
      "cell_type": "code",
      "source": [
        "# Creating a list and a tuple\n",
        "my_list = [1, 2, 3]\n",
        "my_tuple = (1, 2, 3)\n",
        "\n",
        "# Attempting to change an element\n",
        "try:\n",
        "    my_list[0] = 10  # This works\n",
        "    print(\"Updated list:\", my_list)\n",
        "\n",
        "    my_tuple[0] = 10  # This will raise an error\n",
        "except TypeError as e:\n",
        "    print(f\"Error: {e}. Tuples are immutable.\")"
      ],
      "metadata": {
        "colab": {
          "base_uri": "https://localhost:8080/"
        },
        "id": "zk17ofa187Cg",
        "outputId": "b922ce06-fa8a-4a8f-b563-277e5d16b9b1"
      },
      "execution_count": 26,
      "outputs": [
        {
          "output_type": "stream",
          "name": "stdout",
          "text": [
            "Updated list: [10, 2, 3]\n",
            "Error: 'tuple' object does not support item assignment. Tuples are immutable.\n"
          ]
        }
      ]
    },
    {
      "cell_type": "markdown",
      "source": [
        "6. **Write a function to demonstrate the behavior of mutable and immutable arguments.**"
      ],
      "metadata": {
        "id": "62Cwr7q_AC-U"
      }
    },
    {
      "cell_type": "code",
      "source": [
        "def test_mutable_immutable(immutable_var, mutable_var):\n",
        "    immutable_var += 10\n",
        "    mutable_var.append(10)\n",
        "    print(\"Inside function - Immutable:\", immutable_var)\n",
        "    print(\"Inside function - Mutable:\", mutable_var)\n",
        "\n",
        "x = 5  # Immutable\n",
        "y = [1, 2, 3]  # Mutable\n",
        "\n",
        "test_mutable_immutable(x, y)\n",
        "print(\"Outside function - Immutable:\", x)\n",
        "print(\"Outside function - Mutable:\", y)"
      ],
      "metadata": {
        "colab": {
          "base_uri": "https://localhost:8080/"
        },
        "id": "61T4LYqV-lKL",
        "outputId": "0acee9f9-f285-45b6-a1d9-fe57416ea1ba"
      },
      "execution_count": 30,
      "outputs": [
        {
          "output_type": "stream",
          "name": "stdout",
          "text": [
            "Inside function - Immutable: 15\n",
            "Inside function - Mutable: [1, 2, 3, 10]\n",
            "Outside function - Immutable: 5\n",
            "Outside function - Mutable: [1, 2, 3, 10]\n"
          ]
        }
      ]
    },
    {
      "cell_type": "markdown",
      "source": [
        "7. **Write a program that performs basic arithmetic operations on two user-input numbers.**"
      ],
      "metadata": {
        "id": "oHtLsfopBhhe"
      }
    },
    {
      "cell_type": "code",
      "source": [
        "a = float(input(\"Enter first number: \"))\n",
        "b = float(input(\"Enter second number: \"))\n",
        "\n",
        "print(\"Addition:\", a + b)\n",
        "print(\"Subtraction:\", a - b)\n",
        "print(\"Multiplication:\", a * b)\n",
        "print(\"Division:\", a / b if b != 0 else \"Cannot divide by zero\")"
      ],
      "metadata": {
        "colab": {
          "base_uri": "https://localhost:8080/"
        },
        "id": "-_On9wvdAPfj",
        "outputId": "3220f44c-e29c-480e-e248-d343426698de"
      },
      "execution_count": 32,
      "outputs": [
        {
          "output_type": "stream",
          "name": "stdout",
          "text": [
            "Enter first number: 5\n",
            "Enter second number: 0\n",
            "Addition: 5.0\n",
            "Subtraction: 5.0\n",
            "Multiplication: 0.0\n",
            "Division: Cannot divide by zero\n"
          ]
        }
      ]
    },
    {
      "cell_type": "markdown",
      "source": [
        "8. **Write a program to demonstrate the use of logical operators.**"
      ],
      "metadata": {
        "id": "2kQWaf4FCV95"
      }
    },
    {
      "cell_type": "code",
      "source": [
        "x = int(input(\"Enter a number: \"))\n",
        "\n",
        "if x > 0 and x < 100:\n",
        "    print(\"Number is between 1 and 100\")\n",
        "if x < 0 or x > 100:\n",
        "    print(\"Number is out of range\")\n",
        "if not x == 50:\n",
        "    print(\"Number is not 50\")"
      ],
      "metadata": {
        "colab": {
          "base_uri": "https://localhost:8080/"
        },
        "id": "VG_vfpuKBo4I",
        "outputId": "36e68a7d-7736-4f35-e0f9-4e6a12460d48"
      },
      "execution_count": 33,
      "outputs": [
        {
          "output_type": "stream",
          "name": "stdout",
          "text": [
            "Enter a number: 45\n",
            "Number is between 1 and 100\n",
            "Number is not 50\n"
          ]
        }
      ]
    },
    {
      "cell_type": "markdown",
      "source": [
        "9. **Write a Python program to convert user input from string to integer, float, and boolean types.**"
      ],
      "metadata": {
        "id": "HA7KKdmoCpdF"
      }
    },
    {
      "cell_type": "code",
      "source": [
        "value = input(\"Enter a value: \")\n",
        "\n",
        "int_val = int(value)\n",
        "float_val = float(value)\n",
        "bool_val = bool(value)\n",
        "\n",
        "print(\"Integer:\", int_val)\n",
        "print(\"Float:\", float_val)\n",
        "print(\"Boolean:\", bool_val)"
      ],
      "metadata": {
        "colab": {
          "base_uri": "https://localhost:8080/"
        },
        "id": "2iVQLT9iCihf",
        "outputId": "86f1d650-c9e9-49e0-ba4f-87d9b1061d6b"
      },
      "execution_count": 34,
      "outputs": [
        {
          "output_type": "stream",
          "name": "stdout",
          "text": [
            "Enter a value: 4\n",
            "Integer: 4\n",
            "Float: 4.0\n",
            "Boolean: True\n"
          ]
        }
      ]
    },
    {
      "cell_type": "markdown",
      "source": [
        "10. ** Write code to demonstrate type casting with list elements.**"
      ],
      "metadata": {
        "id": "uo7sbnvgC-Yu"
      }
    },
    {
      "cell_type": "code",
      "source": [
        "str_list = ['1', '2', '3']\n",
        "int_list = list(map(int, str_list))\n",
        "\n",
        "print(\"Original List:\", str_list)\n",
        "print(\"After Casting to Integers:\", int_list)"
      ],
      "metadata": {
        "colab": {
          "base_uri": "https://localhost:8080/"
        },
        "id": "5ohf7zx2C8CY",
        "outputId": "78798ab5-8a26-440a-82e1-c1a91512c94a"
      },
      "execution_count": 39,
      "outputs": [
        {
          "output_type": "stream",
          "name": "stdout",
          "text": [
            "Original List: ['1', '2', '3']\n",
            "After Casting to Integers: [1, 2, 3]\n"
          ]
        }
      ]
    },
    {
      "cell_type": "markdown",
      "source": [
        "11. **Write a program that checks if a number is positive, negative, or zero.**"
      ],
      "metadata": {
        "id": "mK60MYo0DltM"
      }
    },
    {
      "cell_type": "code",
      "source": [
        "number = float(input(\"Enter a number: \"))\n",
        "if number > 0:\n",
        "    print(\"Positive\")\n",
        "elif number < 0:\n",
        "    print(\"Negative\")\n",
        "else:\n",
        "    print(\"Zero\")"
      ],
      "metadata": {
        "colab": {
          "base_uri": "https://localhost:8080/"
        },
        "id": "_bxCSVAUDPsW",
        "outputId": "abb51b97-1f15-4dd5-f364-c9c992a3cfa9"
      },
      "execution_count": 42,
      "outputs": [
        {
          "output_type": "stream",
          "name": "stdout",
          "text": [
            "Enter a number: 8\n",
            "Positive\n"
          ]
        }
      ]
    },
    {
      "cell_type": "markdown",
      "source": [
        "12. **Write a for loop to print numbers from 1 to 10.**"
      ],
      "metadata": {
        "id": "ZCyWYc6SD2kU"
      }
    },
    {
      "cell_type": "code",
      "source": [
        "for i in range(1, 11):\n",
        "    print(i)"
      ],
      "metadata": {
        "colab": {
          "base_uri": "https://localhost:8080/"
        },
        "id": "tfCfOqSIDtEQ",
        "outputId": "b0f4512c-800d-461d-e86e-e248c8ff9709"
      },
      "execution_count": 43,
      "outputs": [
        {
          "output_type": "stream",
          "name": "stdout",
          "text": [
            "1\n",
            "2\n",
            "3\n",
            "4\n",
            "5\n",
            "6\n",
            "7\n",
            "8\n",
            "9\n",
            "10\n"
          ]
        }
      ]
    },
    {
      "cell_type": "markdown",
      "source": [
        "13. **Write a Python program to find the sum of all even numbers between 1 and 50.**"
      ],
      "metadata": {
        "id": "kRTx2JZBEEBj"
      }
    },
    {
      "cell_type": "code",
      "source": [
        "total = 0\n",
        "for i in range(1, 50):\n",
        "    if i % 2 == 0:\n",
        "        total += i\n",
        "print(\"Sum of even numbers between 1 and 50:\", total)"
      ],
      "metadata": {
        "colab": {
          "base_uri": "https://localhost:8080/"
        },
        "id": "m1Ra38jCECjy",
        "outputId": "4519a9a6-6659-4d06-d238-1bbc87e4d18f"
      },
      "execution_count": 46,
      "outputs": [
        {
          "output_type": "stream",
          "name": "stdout",
          "text": [
            "Sum of even numbers between 1 and 50: 600\n"
          ]
        }
      ]
    },
    {
      "cell_type": "markdown",
      "source": [
        "14. **Write a program to reverse a string using a while loop.**"
      ],
      "metadata": {
        "id": "GE6wFK97EkaX"
      }
    },
    {
      "cell_type": "code",
      "source": [
        "string = input(\"Enter a string: \")\n",
        "reversed_string = \"\"\n",
        "index = len(string) - 1\n",
        "\n",
        "while index >= 0:\n",
        "    reversed_string += string[index]\n",
        "    index -= 1\n",
        "\n",
        "print(\"Reversed String:\", reversed_string)"
      ],
      "metadata": {
        "colab": {
          "base_uri": "https://localhost:8080/"
        },
        "id": "lGumUxIJEK7A",
        "outputId": "99814322-7d3d-41b8-ae4a-885fca7e1d0e"
      },
      "execution_count": 48,
      "outputs": [
        {
          "output_type": "stream",
          "name": "stdout",
          "text": [
            "Enter a string: 1025402\n",
            "Reversed String: 2045201\n"
          ]
        }
      ]
    },
    {
      "cell_type": "markdown",
      "source": [
        "15. **Write a Python program to calculate the factorial of a number provided by the user using a while loop.**"
      ],
      "metadata": {
        "id": "5Hn-HP_3E9Ff"
      }
    },
    {
      "cell_type": "code",
      "source": [
        "number = int(input(\"Enter a number: \"))\n",
        "factorial = 1\n",
        "counter = 1\n",
        "\n",
        "while counter <= number:\n",
        "    factorial *= counter\n",
        "    counter += 1\n",
        "\n",
        "print(\"Factorial of\", number, \"is\", factorial)"
      ],
      "metadata": {
        "colab": {
          "base_uri": "https://localhost:8080/"
        },
        "id": "IoXsGz0hE1ct",
        "outputId": "c92f66c6-83dc-4b3b-848a-6281b9f85a0d"
      },
      "execution_count": 51,
      "outputs": [
        {
          "output_type": "stream",
          "name": "stdout",
          "text": [
            "Enter a number: 22\n",
            "Factorial of 22 is 1124000727777607680000\n"
          ]
        }
      ]
    },
    {
      "cell_type": "code",
      "source": [],
      "metadata": {
        "id": "FOMAKfcxFMQg"
      },
      "execution_count": null,
      "outputs": []
    }
  ]
}