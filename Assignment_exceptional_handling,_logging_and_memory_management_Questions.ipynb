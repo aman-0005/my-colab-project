{
  "nbformat": 4,
  "nbformat_minor": 0,
  "metadata": {
    "colab": {
      "provenance": [],
      "authorship_tag": "ABX9TyO772TwrFYCkHR5RcJjRcU4",
      "include_colab_link": true
    },
    "kernelspec": {
      "name": "python3",
      "display_name": "Python 3"
    },
    "language_info": {
      "name": "python"
    }
  },
  "cells": [
    {
      "cell_type": "markdown",
      "metadata": {
        "id": "view-in-github",
        "colab_type": "text"
      },
      "source": [
        "<a href=\"https://colab.research.google.com/github/aman-0005/my-colab-project/blob/main/Assignment_exceptional_handling%2C_logging_and_memory_management_Questions.ipynb\" target=\"_parent\"><img src=\"https://colab.research.google.com/assets/colab-badge.svg\" alt=\"Open In Colab\"/></a>"
      ]
    },
    {
      "cell_type": "markdown",
      "source": [
        "# Files, exceptional handling, logging and\n"
      ],
      "metadata": {
        "id": "E2yLhZV_MvVb"
      }
    },
    {
      "cell_type": "markdown",
      "source": [
        "1. What is the difference between interpreted and compiled languages?\n",
        "\n",
        "    -> Compiled languages are translated into machine code before execution.\n",
        "\n",
        "    -> Interpreted languages are executed line-by-line by an interpreter at runtime.\n",
        "\n",
        "\n",
        "2. What is exception handling in Python?\n",
        "\n",
        "    -> Exception handling in Python is a mechanism to catch and handle runtime errors using try, except, finally, and else blocks.\n",
        "\n",
        "3. What is the purpose of the finally block in exception handling?\n",
        "\n",
        "    -> The finally block contains code that is always executed, regardless of whether an exception occurred or not. It is used for cleanup actions like closing files.\n",
        "\n",
        "4. What is logging in Python?\n",
        "\n",
        "    -> Logging records events or messages during a program’s execution. It's useful for debugging, error tracking, and monitoring.\n",
        "\n",
        "5. What is the significance of the __del__ method in Python?\n",
        "\n",
        "    -> The __del__ method is a destructor that is automatically called when an object is about to be destroyed. It can be used to free resources.\n",
        "\n",
        "6. What is the difference between import and from ... import in Python?\n",
        "    -> import module loads the module.\n",
        "\n",
        "    -> from module import name loads a specific object or function from a module.\n",
        "\n",
        "\n",
        "7. How can you handle multiple exceptions in Python?\n",
        "\n",
        "    -> try:\n",
        "    code\n",
        "    except (TypeError, ValueError) as e:\n",
        "    print(e)\n",
        "\n",
        "\n",
        "8. What is the purpose of the with statement when handling files in Python?\n",
        "\n",
        "    -> The with statement ensures that a file is properly closed after its suite finishes, even if an exception is raised.\n",
        "\n",
        "\n",
        "9. What is the difference between multithreading and multiprocessing?\n",
        "\n",
        "    -> Multithreading: Process run concurrently on multithreads in a processor.\n",
        "\n",
        "    -> Multiprocessing: Process run parallely on multiple process.\n",
        "\n",
        "\n",
        "10. What are the advantages of using logging in a program?\n",
        "\n",
        "    -> Tracks execution flow\n",
        "\n",
        "    Records errors and warnings\n",
        "\n",
        "    Helps in debugging\n",
        "\n",
        "    Can log to files or external systems\n",
        "\n",
        "\n",
        "11. What is memory management in Python?\n",
        "\n",
        "    -> Python uses automatic memory management, including reference counting and garbage collection, to allocate and release memory.\n",
        "\n",
        "\n",
        "12. What are the basic steps involved in exception handling in Python?\n",
        "\n",
        "    -> Wrap code in a try block.\n",
        "\n",
        "    Catch exceptions with except.\n",
        "\n",
        "    (Optional) Use else for code that runs if no exception occurs.\n",
        "\n",
        "    (Optional) Use finally for cleanup code.\n",
        "\n",
        "\n",
        "13. Why is memory management important in Python?\n",
        "\n",
        "    -> Efficient memory management ensures the program uses system resources wisely and avoids memory leaks or crashes.\n",
        "\n",
        "\n",
        "14. What is the role of try and except in exception handling?\n",
        "\n",
        "    -> try: Contains code that might raise exceptions.\n",
        "\n",
        "    except: Catches and handles exceptions that occur in the try block.\n",
        "\n",
        "\n",
        "15. How does Python's garbage collection system work?\n",
        "\n",
        "    -> Python uses:\n",
        "\n",
        "    Reference counting\n",
        "\n",
        "    Generational garbage collection to reclaim memory from unused objects, especially those involved in reference cycles.\n",
        "\n",
        "\n",
        "16. What is the purpose of the else block in exception handling?\n",
        "\n",
        "    -> Want to excute some code onnly if the try statement is suescessfully and code doesn't enter into expection block.\n",
        "\n",
        "\n",
        "17. What are the common logging levels in Python?\n",
        "\n",
        "    -> . DEBUG\n",
        "    . INFO\n",
        "    . WARNING\n",
        "    . ERROR\n",
        "    . CRITICAL\n",
        "\n",
        "  \n",
        "\n",
        "18. What is the difference between os.fork() and multiprocessing in Python?\n",
        "\n",
        "    ->os.fork() is a Unix-only function to create child processes.\n",
        "\n",
        "    -> multiprocessing is cross-platform, safer, and more feature-rich.\n",
        "\n",
        "\n",
        "19. What is the importance of closing a file in Python?\n",
        "\n",
        "    -> Closing a file:\n",
        "\n",
        "    Releases system resources\n",
        "\n",
        "    Flushes write buffers\n",
        "\n",
        "    Prevents file corruption\n",
        "\n",
        "    (Use with to do this automatically.)\n",
        "\n",
        "  \n",
        "20. What is the difference between file.read() and file.readline() in Python?\n",
        "\n",
        "    -> read() reads the entire file as a single string.\n",
        "\n",
        "    -> readline() reads one line at a time.\n",
        "\n",
        "\n",
        "21. What is the logging module in Python used for?\n",
        "\n",
        "    -> The logging module is used to record messages related to a program’s execution. It helps:\n",
        "\n",
        "    Debug and trace code\n",
        "\n",
        "    Track errors and warnings\n",
        "\n",
        "    Store logs in files or display them on the console\n",
        "\n",
        "    Manage different severity levels (DEBUG, INFO, WARNING, ERROR, CRITICAL)\n",
        "\n",
        "    Example: import logging\n",
        "\n",
        "    logging.basicConfig(level=logging.INFO)\n",
        "    logging.info(\"This is an info message\")\n",
        "\n",
        "\n",
        "22. What is the os module in Python used for in file handling?\n",
        "\n",
        "    -> The os module allows interaction with the operating system, and in file handling, it is used to:\n",
        "\n",
        "    Navigate the file system (os.chdir(), os.getcwd())\n",
        "\n",
        "    Check file or directory existence (os.path.exists())\n",
        "\n",
        "    Create, delete, or rename files and directories (os.remove(), os.rename(), os.mkdir())\n",
        "\n",
        "    Walk through directory trees (os.walk())\n",
        "\n",
        "23. What are the challenges associated with memory management in Python?\n",
        "\n",
        "    -> Although Python handles memory automatically using garbage collection, there are still challenges:\n",
        "\n",
        "    Key Challenges:\n",
        "    Circular references: Objects referencing each other may not be freed immediately.\n",
        "\n",
        "    Memory leaks: Caused by unused objects still referenced (e.g., in global scopes or caches).\n",
        "\n",
        "    Garbage collector overhead: Automatic memory management can add performance costs.\n",
        "\n",
        "    Manual cleanup for resources: Files, database connections, or sockets must be explicitly closed.\n",
        "\n",
        "\n",
        "24. How do you raise an exception manually in Python?\n",
        "\n",
        "    -> Use the raise keyword:\n",
        "\n",
        "    raise ValueError(\"Invalid input\")\n",
        "\n",
        "    You can raise built-in or custom exceptions based on conditions in your code.\n",
        "\n",
        "\n",
        "25. Why is it important to use multithreading in certain applications?\n",
        "\n",
        "    -> Multithreading is useful for tasks that are I/O-bound or involve waiting (e.g., reading files, network requests).\n",
        "\n",
        "    Benefits:\n",
        "    Improves responsiveness in applications (e.g., GUIs, web servers)\n",
        "\n",
        "    Performs background tasks without blocking the main thread\n",
        "\n",
        "    Utilizes idle time while waiting for I/O operations to complete."
      ],
      "metadata": {
        "id": "0mQAizMfMyIr"
      }
    },
    {
      "cell_type": "markdown",
      "source": [
        "# Practical Questions"
      ],
      "metadata": {
        "id": "uVCjCI7FdqeF"
      }
    },
    {
      "cell_type": "markdown",
      "source": [
        "1. How can you open a file for writing in Python and write a string to it?"
      ],
      "metadata": {
        "id": "qlAgnMg0c1LB"
      }
    },
    {
      "cell_type": "code",
      "source": [
        "with open('output.txt', 'w') as file:\n",
        "       file.write(\"Hello, World!\")"
      ],
      "metadata": {
        "id": "4LXZi5mic018"
      },
      "execution_count": 1,
      "outputs": []
    },
    {
      "cell_type": "markdown",
      "source": [
        "2. Write a Python program to read the contents of a file and print each line."
      ],
      "metadata": {
        "id": "oNNOiqD5deQE"
      }
    },
    {
      "cell_type": "code",
      "source": [
        "with open('input.txt', 'r') as file:\n",
        "  for line in file:\n",
        "    print(line.strip())"
      ],
      "metadata": {
        "id": "pCUPHYJtdtY9"
      },
      "execution_count": null,
      "outputs": []
    },
    {
      "cell_type": "markdown",
      "source": [
        "3. How would you handle a case where the file doesn't exist while trying to open it for reading?"
      ],
      "metadata": {
        "id": "TFyf9cztd5-Z"
      }
    },
    {
      "cell_type": "code",
      "source": [
        "try:\n",
        "  with open('non_existent_file.txt', 'r') as file:\n",
        "    content = file.read()\n",
        "except FileNotFoundError:\n",
        "  print(\"The file does not exist.\")"
      ],
      "metadata": {
        "id": "eZj15FkSd-gJ"
      },
      "execution_count": null,
      "outputs": []
    },
    {
      "cell_type": "markdown",
      "source": [
        "4.  Write a Python script that reads from one file and writes its content to another file."
      ],
      "metadata": {
        "id": "ygS_maCQeReO"
      }
    },
    {
      "cell_type": "code",
      "source": [
        "with open(source_file, 'r') as source_file:\n",
        "  content = source_file.read()\n",
        "with open(destination_file, 'w') as dest_file:\n",
        "  dest_file.write(content)"
      ],
      "metadata": {
        "id": "ABFnYQ3BeVVe"
      },
      "execution_count": null,
      "outputs": []
    },
    {
      "cell_type": "markdown",
      "source": [
        "5.  How would you catch and handle division by zero error in Python?"
      ],
      "metadata": {
        "id": "0fFXov2OgSiB"
      }
    },
    {
      "cell_type": "code",
      "source": [
        "try:\n",
        "  10/0\n",
        "except ZeroDivisionError as e:\n",
        "  print(\"Error :\", e)"
      ],
      "metadata": {
        "id": "x6PhsoKRgV9O"
      },
      "execution_count": null,
      "outputs": []
    },
    {
      "cell_type": "markdown",
      "source": [
        "6. Write a Python program that logs an error message to a log file when a division by zero exception occurs."
      ],
      "metadata": {
        "id": "jiiDOM7vgtwg"
      }
    },
    {
      "cell_type": "code",
      "source": [
        "import logging\n",
        "\n",
        "logging.basicConfig(filename='error.log', level=logging.ERROR)\n",
        "\n",
        "try:\n",
        "  result = 10 / 0\n",
        "except ZeroDivisionError as e:\n",
        "  logging.error(\"Division by zero error: %s\", e)"
      ],
      "metadata": {
        "id": "rZZkb93kgwgX"
      },
      "execution_count": null,
      "outputs": []
    },
    {
      "cell_type": "markdown",
      "source": [
        "7. How do you log information at different levels (INFO, ERROR, WARNING) in Python using the logging module?"
      ],
      "metadata": {
        "id": "Z6_Q26lChbYU"
      }
    },
    {
      "cell_type": "code",
      "source": [
        "import logging\n",
        "\n",
        "logging.basicConfig(level=logging.DEBUG)\n",
        "\n",
        "logging.info(\"This is an info message.\")\n",
        "logging.warning(\"This is a warning message.\")\n",
        "logging.error(\"This is an error message.\")"
      ],
      "metadata": {
        "colab": {
          "base_uri": "https://localhost:8080/"
        },
        "id": "ioYqhwgIhg8v",
        "outputId": "0ae39d78-4cb8-488b-9e0c-b39791786a99"
      },
      "execution_count": 5,
      "outputs": [
        {
          "output_type": "stream",
          "name": "stderr",
          "text": [
            "WARNING:root:This is a warning message.\n",
            "ERROR:root:This is an error message.\n"
          ]
        }
      ]
    },
    {
      "cell_type": "markdown",
      "source": [
        "8.  Write a program to handle a file opening error using exception handling."
      ],
      "metadata": {
        "id": "0C8066pWlWIW"
      }
    },
    {
      "cell_type": "code",
      "source": [
        "try:\n",
        "  with open('non_existent_file.txt', 'r') as file:\n",
        "    content = file.read()\n",
        "except FileNotFoundError:"
      ],
      "metadata": {
        "id": "ZfNeDdEwhpWK"
      },
      "execution_count": null,
      "outputs": []
    },
    {
      "cell_type": "markdown",
      "source": [
        "9.  How can you read a file line by line and store its content in a list in Python?"
      ],
      "metadata": {
        "id": "lpm0jd2plkGP"
      }
    },
    {
      "cell_type": "code",
      "source": [
        "lines = []\n",
        "with open('input.txt', 'r') as file:\n",
        "  for line in file:\n",
        "    lines.append(line.strip())"
      ],
      "metadata": {
        "id": "aisB3ljalonA"
      },
      "execution_count": null,
      "outputs": []
    },
    {
      "cell_type": "markdown",
      "source": [
        "10. How can you append data to an existing file in Python?"
      ],
      "metadata": {
        "id": "wUy0wuylmAVO"
      }
    },
    {
      "cell_type": "code",
      "source": [
        "with open('output.txt', 'a') as file:\n",
        "  file.write(\"Appending this line.\\n\")"
      ],
      "metadata": {
        "id": "rC0LAdbdmJfE"
      },
      "execution_count": null,
      "outputs": []
    },
    {
      "cell_type": "markdown",
      "source": [
        "11. Write a Python program that uses a try-except block to handle an error when attempting to access a\n",
        "dictionary key that doesn't exist."
      ],
      "metadata": {
        "id": "LmnPGuyqmJGG"
      }
    },
    {
      "cell_type": "code",
      "source": [
        "try:\n",
        "  d = {\"name\": \"Aman\", \"course\": \"BCA\"}\n",
        "  d[\"age\"]\n",
        "except KeyError as e:\n",
        "  print(\"Error: \", e)"
      ],
      "metadata": {
        "id": "1pt5VR0snBN4"
      },
      "execution_count": null,
      "outputs": []
    },
    {
      "cell_type": "markdown",
      "source": [
        "12. Write a program that demonstrates using multiple except blocks to handle different types of exceptions."
      ],
      "metadata": {
        "id": "yF56G9XLnXDr"
      }
    },
    {
      "cell_type": "code",
      "source": [
        "try:\n",
        "  10/\"a\"\n",
        "except ZeroDivisionError  as e:\n",
        "  print(\"Error :\", e)\n",
        "except Exception  as e:\n",
        "  print(\"Error is :\", e)"
      ],
      "metadata": {
        "id": "fqg886LOnwYH"
      },
      "execution_count": null,
      "outputs": []
    },
    {
      "cell_type": "markdown",
      "source": [
        "13. How would you check if a file exists before attempting to read it in Pytho?"
      ],
      "metadata": {
        "id": "gahWoxrVnbLN"
      }
    },
    {
      "cell_type": "code",
      "source": [
        "import os\n",
        "\n",
        "if os.path.exists('file.txt'):\n",
        "  with open('file.txt', 'r') as file:\n",
        "    content = file.read()\n",
        "else:\n",
        "    print(\"File does not exist.\")"
      ],
      "metadata": {
        "colab": {
          "base_uri": "https://localhost:8080/"
        },
        "id": "FwF2l84wn2e4",
        "outputId": "49fdb508-2dbb-4985-a9c2-7c811f0c031e"
      },
      "execution_count": 6,
      "outputs": [
        {
          "output_type": "stream",
          "name": "stdout",
          "text": [
            "File does not exist.\n"
          ]
        }
      ]
    },
    {
      "cell_type": "markdown",
      "source": [
        "14. Write a program that uses the logging module to log both informational and error messages."
      ],
      "metadata": {
        "id": "HT9EM5LCoDgl"
      }
    },
    {
      "cell_type": "code",
      "source": [
        "import logging\n",
        "\n",
        "logging.basicConfig(level=logging.DEBUG)\n",
        "logging.info(\"This is an informational message.\")\n",
        "\n",
        "try:\n",
        "  result = 10 / 0\n",
        "except ZeroDivisionError:\n",
        "  logging.error(\"An error occurred: Division by zero.\")"
      ],
      "metadata": {
        "id": "h3ssNaXVqIII"
      },
      "execution_count": null,
      "outputs": []
    },
    {
      "cell_type": "markdown",
      "source": [
        "15. Write a Python program that prints the content of a file and handles the case when the file is empty."
      ],
      "metadata": {
        "id": "CoU9NnkiqZsb"
      }
    },
    {
      "cell_type": "code",
      "source": [
        "with open('input.txt', 'r') as file:\n",
        "  content = file.read()\n",
        "  if not content:\n",
        "    print(\"The file is empty.\")\n",
        "else:\n",
        "  print(content)"
      ],
      "metadata": {
        "id": "XdTDvev5qfLq"
      },
      "execution_count": null,
      "outputs": []
    },
    {
      "cell_type": "markdown",
      "source": [
        "16. Demonstrate how to use memory profiling to check the memory usage of a small program."
      ],
      "metadata": {
        "id": "0PTDue9eGxLG"
      }
    },
    {
      "cell_type": "code",
      "source": [
        "import memory_profiler\n",
        "\n",
        "@memory_profiler.profile\n",
        "def my_function():\n",
        "   a = [i for i in range(10000)]\n",
        "   return a\n",
        "\n",
        "my_function()"
      ],
      "metadata": {
        "id": "VCEMU7cBG1BB"
      },
      "execution_count": null,
      "outputs": []
    },
    {
      "cell_type": "markdown",
      "source": [
        "17. Write a Python program to create and write a list of numbers to a file, one number per line."
      ],
      "metadata": {
        "id": "0CFCem99HIFO"
      }
    },
    {
      "cell_type": "code",
      "source": [
        "numbers = [1, 2, 3, 4, 5]\n",
        "with open('numbers.txt', 'w') as file:\n",
        "  for number in numbers:\n",
        "    file.write(f\"{number}\\n\")"
      ],
      "metadata": {
        "id": "clzxGoGAHJmD"
      },
      "execution_count": null,
      "outputs": []
    },
    {
      "cell_type": "markdown",
      "source": [
        "18. How would you implement a basic logging setup that logs to a file with rotation after 1MB."
      ],
      "metadata": {
        "id": "Q-O-d8A2HRBb"
      }
    },
    {
      "cell_type": "code",
      "source": [
        "import logging\n",
        "from logging.handlers import RotatingFileHandler\n",
        "\n",
        "handler = RotatingFileHandler('my_log.log', maxBytes=1e6, backupCount=5)\n",
        "logging.basicConfig(handlers=[handler], level=logging.INFO)\n",
        "\n",
        "logging.info(\"This is a log message.\")"
      ],
      "metadata": {
        "id": "C3WrkMDJHVMP"
      },
      "execution_count": null,
      "outputs": []
    },
    {
      "cell_type": "markdown",
      "source": [
        "19. Write a program that handles both IndexError and KeyError using a try-except block."
      ],
      "metadata": {
        "id": "ZYoxqBoEHauF"
      }
    },
    {
      "cell_type": "code",
      "source": [
        "my_list = [1, 2, 3]\n",
        "my_dict = {'a': 1, 'b': 2}\n",
        "\n",
        "try:\n",
        "  value = my_list[5]\n",
        "  value = my_dict['c']\n",
        "\n",
        "except IndexError:\n",
        "  print(\"Index does not exist in the list.\")\n",
        "except KeyError:\n",
        "  print(\"Key does not exist in the dictionary.\")\n",
        ""
      ],
      "metadata": {
        "colab": {
          "base_uri": "https://localhost:8080/"
        },
        "id": "Yda2vZbAHelM",
        "outputId": "4378f244-3df2-44ca-cb31-0df001e66d6d"
      },
      "execution_count": 7,
      "outputs": [
        {
          "output_type": "stream",
          "name": "stdout",
          "text": [
            "Index does not exist in the list.\n"
          ]
        }
      ]
    },
    {
      "cell_type": "markdown",
      "source": [
        "20. How would you open a file and read its contents using a context manager in Python?"
      ],
      "metadata": {
        "id": "HOslaMy5ICb7"
      }
    },
    {
      "cell_type": "code",
      "source": [
        "with open('file.txt', 'r') as file:\n",
        "  content = file.read()\n",
        "  print(content)"
      ],
      "metadata": {
        "id": "DYHDnCW0IBdi"
      },
      "execution_count": null,
      "outputs": []
    },
    {
      "cell_type": "markdown",
      "source": [
        "21.  Write a Python program that reads a file and prints the number of occurrences of a specific word."
      ],
      "metadata": {
        "id": "vQATkKXjIRI6"
      }
    },
    {
      "cell_type": "code",
      "source": [
        "word_to_count = \"example\"\n",
        "with open('input.txt', 'r') as file:\n",
        "   content = file.read()\n",
        "   count = content.lower().count(word_to_count.lower())\n",
        "   print(f\"The word '{word_to_count}' occurs {count} times.\")"
      ],
      "metadata": {
        "id": "KZTPcxFrIUHY"
      },
      "execution_count": null,
      "outputs": []
    },
    {
      "cell_type": "markdown",
      "source": [
        "22. How can you check if a file is empty before attempting to read its contents?"
      ],
      "metadata": {
        "id": "f1Kjic8kIcNz"
      }
    },
    {
      "cell_type": "code",
      "source": [
        "import os\n",
        "\n",
        "file_path = 'input.txt'\n",
        "\n",
        "# Check if the file exists and is empty\n",
        "if os.path.exists(file_path) and os.path.getsize(file_path) > 0:\n",
        "    with open(file_path, 'r') as file:\n",
        "        content = file.read()\n",
        "        print(content)\n",
        "else:\n",
        "    print(\"The file is either empty or does not exist.\")"
      ],
      "metadata": {
        "id": "mtFz3NvTIf-G"
      },
      "execution_count": null,
      "outputs": []
    },
    {
      "cell_type": "markdown",
      "source": [
        "23. Write a Python program that writes to a log file when an error occurs during file handling."
      ],
      "metadata": {
        "id": "hoPFcTD4Inxb"
      }
    },
    {
      "cell_type": "code",
      "source": [
        "import os\n",
        "\n",
        "file_path = 'input.txt'\n",
        "\n",
        "# Check if the file exists and is empty\n",
        "if os.path.exists(file_path) and os.path.getsize(file_path) > 0:\n",
        "    with open(file_path, 'r') as file:\n",
        "        content = file.read()\n",
        "        print(content)\n",
        "else:\n",
        "    print(\"The file is either empty or does not exist.\")"
      ],
      "metadata": {
        "id": "BM3HsEs0IqZP"
      },
      "execution_count": null,
      "outputs": []
    }
  ]
}